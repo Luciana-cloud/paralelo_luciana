{
 "cells": [
  {
   "cell_type": "code",
   "execution_count": 12,
   "id": "acbbb352-6bf6-46ff-aec4-131741a9b269",
   "metadata": {},
   "outputs": [
    {
     "name": "stdout",
     "output_type": "stream",
     "text": [
      "Overwriting hello_A.cpp\n"
     ]
    }
   ],
   "source": [
    "%%writefile hello_A.cpp\n",
    "\n",
    "#include <stdio.h>\n",
    "\n",
    "int main()\n",
    "{\n",
    "    printf(\"Hello World\");\n",
    "\n",
    "    return 0;\n",
    "}"
   ]
  },
  {
   "cell_type": "code",
   "execution_count": 13,
   "id": "b1db921a-c949-4bd6-80ef-ab9671faf00f",
   "metadata": {},
   "outputs": [
    {
     "name": "stdout",
     "output_type": "stream",
     "text": [
      "Overwriting compi_A.pbs\n"
     ]
    }
   ],
   "source": [
    "%%writefile compi_A.pbs\n",
    "#PBS -S /bin/bash\n",
    "#\n",
    "#PBS -N hello\n",
    "#PBS -l nodes=1,walltime=00:05:00\n",
    "#\n",
    "dpcpp -o $HOME/Paralelo_test/hello_A $HOME/Paralelo_test/hello_A.cpp\n",
    "\n",
    "$HOME/Paralelo_test/hello_A"
   ]
  },
  {
   "cell_type": "code",
   "execution_count": 8,
   "id": "98566440-8b65-410d-93c2-71aee456f8c0",
   "metadata": {},
   "outputs": [
    {
     "name": "stdout",
     "output_type": "stream",
     "text": [
      "2341337.v-qsvr-1.aidevcloud\n"
     ]
    }
   ],
   "source": [
    "!qsub compi_A.pbs"
   ]
  },
  {
   "cell_type": "code",
   "execution_count": 14,
   "id": "5f760e7e-09b0-48f4-bc8c-67709df23b8f",
   "metadata": {},
   "outputs": [
    {
     "name": "stdout",
     "output_type": "stream",
     "text": [
      "Job ID                    Name             User            Time Use S Queue\n",
      "------------------------- ---------------- --------------- -------- - -----\n",
      "2341236.v-qsvr-1           ...ub-singleuser u196481         00:00:39 R jupyterhub     \n"
     ]
    }
   ],
   "source": [
    "!qstat"
   ]
  },
  {
   "cell_type": "code",
   "execution_count": 15,
   "id": "7d2ddc40-2839-4a99-b2f8-aa3a79db745e",
   "metadata": {},
   "outputs": [
    {
     "name": "stdout",
     "output_type": "stream",
     "text": [
      "Writing sen_curva.py\n"
     ]
    }
   ],
   "source": [
    "%%writefile sen_curva.py\n",
    "\n",
    "import numpy as np\n",
    "import matplotlib\n",
    "import matplotlib.pyplot as plt\n",
    "\n",
    "x = np.arange(2*np.pi,10*np.pi,0.1)   # inicio,final,intervalo\n",
    "y = np.sin(x)\n",
    "\n",
    "fig = plt.figure()\n",
    "plt.plot(x,y)\n",
    "plt.savefig(\"/home/u196481/Paralelo_test/sen_curva.png\", dpi = 72)\n",
    "plt.close(fig)"
   ]
  },
  {
   "cell_type": "code",
   "execution_count": 17,
   "id": "a4f1f755-9b31-49f8-9cd1-77bcd5e4c98b",
   "metadata": {},
   "outputs": [
    {
     "name": "stdout",
     "output_type": "stream",
     "text": [
      "Writing compi_py.pbs\n"
     ]
    }
   ],
   "source": [
    "%%writefile compi_py.pbs\n",
    "#PBS -S /bin/bash\n",
    "#\n",
    "#PBS -N curva_seno\n",
    "#PBS -l nodes=1,walltime=00:05:00\n",
    "#\n",
    "\n",
    "python /home/u196481/Paralelo_test/sen_curva.py"
   ]
  },
  {
   "cell_type": "code",
   "execution_count": 18,
   "id": "bae98488-909e-400d-ae1d-ae1422833a9e",
   "metadata": {},
   "outputs": [
    {
     "name": "stdout",
     "output_type": "stream",
     "text": [
      "2341363.v-qsvr-1.aidevcloud\n"
     ]
    }
   ],
   "source": [
    "!qsub compi_py.pbs"
   ]
  },
  {
   "cell_type": "code",
   "execution_count": 19,
   "id": "935b6f9a-9a94-45e4-b816-f283465ae408",
   "metadata": {},
   "outputs": [
    {
     "name": "stdout",
     "output_type": "stream",
     "text": [
      "Job ID                    Name             User            Time Use S Queue\n",
      "------------------------- ---------------- --------------- -------- - -----\n",
      "2341236.v-qsvr-1           ...ub-singleuser u196481         00:00:43 R jupyterhub     \n"
     ]
    }
   ],
   "source": [
    "!qstat"
   ]
  },
  {
   "cell_type": "code",
   "execution_count": null,
   "id": "15072362-c385-467e-b75c-580a62357424",
   "metadata": {},
   "outputs": [],
   "source": []
  }
 ],
 "metadata": {
  "kernelspec": {
   "display_name": "Python 3 (Intel® oneAPI 2023.1)",
   "language": "python",
   "name": "c009-intel_distribution_of_python_3_oneapi-beta05-python"
  },
  "language_info": {
   "codemirror_mode": {
    "name": "ipython",
    "version": 3
   },
   "file_extension": ".py",
   "mimetype": "text/x-python",
   "name": "python",
   "nbconvert_exporter": "python",
   "pygments_lexer": "ipython3",
   "version": "3.9.16"
  }
 },
 "nbformat": 4,
 "nbformat_minor": 5
}
